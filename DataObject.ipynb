{
 "cells": [
  {
   "cell_type": "code",
   "execution_count": 5,
   "id": "c2926c25-2bc5-4e4e-bed8-9f0fc4616ac6",
   "metadata": {},
   "outputs": [],
   "source": [
    "import pandas as pd"
   ]
  },
  {
   "cell_type": "code",
   "execution_count": 2,
   "id": "c99f2fc4-90ed-48cd-91c4-b498c3864132",
   "metadata": {},
   "outputs": [],
   "source": [
    "HD = pd.read_csv(\"./HeartDisease.csv\")"
   ]
  },
  {
   "cell_type": "code",
   "execution_count": null,
   "id": "68a8188d-4fa1-4ebd-acf6-395945c92071",
   "metadata": {},
   "outputs": [],
   "source": []
  }
 ],
 "metadata": {
  "kernelspec": {
   "display_name": "Python 3 (ipykernel)",
   "language": "python",
   "name": "python3"
  },
  "language_info": {
   "codemirror_mode": {
    "name": "ipython",
    "version": 3
   },
   "file_extension": ".py",
   "mimetype": "text/x-python",
   "name": "python",
   "nbconvert_exporter": "python",
   "pygments_lexer": "ipython3",
   "version": "3.9.12"
  }
 },
 "nbformat": 4,
 "nbformat_minor": 5
}
