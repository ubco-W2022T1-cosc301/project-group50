{
 "cells": [
  {
   "cell_type": "code",
   "execution_count": 7,
   "id": "e6b1cadd-16f8-4097-8504-a1f3e1a64a14",
   "metadata": {},
   "outputs": [],
   "source": [
    "import pandas as pd"
   ]
  },
  {
   "cell_type": "code",
   "execution_count": 9,
   "id": "5dc182bb-25dc-4c2f-8b23-01bdacdabab1",
   "metadata": {},
   "outputs": [],
   "source": [
    "heart_dataframe = pd.read_csv(\"../heart_disease.csv\")"
   ]
  },
  {
   "cell_type": "code",
   "execution_count": 10,
   "id": "014773d6-5d86-42a5-9fdc-5d9ec9888460",
   "metadata": {},
   "outputs": [
    {
     "name": "stdout",
     "output_type": "stream",
     "text": [
      "        HeartDiseaseorAttack  HighBP  HighChol  CholCheck   BMI  Smoker  \\\n",
      "0                        0.0     1.0       1.0        1.0  40.0     1.0   \n",
      "1                        0.0     0.0       0.0        0.0  25.0     1.0   \n",
      "2                        0.0     1.0       1.0        1.0  28.0     0.0   \n",
      "3                        0.0     1.0       0.0        1.0  27.0     0.0   \n",
      "4                        0.0     1.0       1.0        1.0  24.0     0.0   \n",
      "...                      ...     ...       ...        ...   ...     ...   \n",
      "253675                   0.0     1.0       1.0        1.0  45.0     0.0   \n",
      "253676                   0.0     1.0       1.0        1.0  18.0     0.0   \n",
      "253677                   0.0     0.0       0.0        1.0  28.0     0.0   \n",
      "253678                   0.0     1.0       0.0        1.0  23.0     0.0   \n",
      "253679                   1.0     1.0       1.0        1.0  25.0     0.0   \n",
      "\n",
      "        Stroke  Diabetes  PhysActivity  Fruits  ...  AnyHealthcare  \\\n",
      "0          0.0       0.0           0.0     0.0  ...            1.0   \n",
      "1          0.0       0.0           1.0     0.0  ...            0.0   \n",
      "2          0.0       0.0           0.0     1.0  ...            1.0   \n",
      "3          0.0       0.0           1.0     1.0  ...            1.0   \n",
      "4          0.0       0.0           1.0     1.0  ...            1.0   \n",
      "...        ...       ...           ...     ...  ...            ...   \n",
      "253675     0.0       0.0           0.0     1.0  ...            1.0   \n",
      "253676     0.0       2.0           0.0     0.0  ...            1.0   \n",
      "253677     0.0       0.0           1.0     1.0  ...            1.0   \n",
      "253678     0.0       0.0           0.0     1.0  ...            1.0   \n",
      "253679     0.0       2.0           1.0     1.0  ...            1.0   \n",
      "\n",
      "        NoDocbcCost  GenHlth  MentHlth  PhysHlth  DiffWalk  Sex   Age  \\\n",
      "0               0.0      5.0      18.0      15.0       1.0  0.0   9.0   \n",
      "1               1.0      3.0       0.0       0.0       0.0  0.0   7.0   \n",
      "2               1.0      5.0      30.0      30.0       1.0  0.0   9.0   \n",
      "3               0.0      2.0       0.0       0.0       0.0  0.0  11.0   \n",
      "4               0.0      2.0       3.0       0.0       0.0  0.0  11.0   \n",
      "...             ...      ...       ...       ...       ...  ...   ...   \n",
      "253675          0.0      3.0       0.0       5.0       0.0  1.0   5.0   \n",
      "253676          0.0      4.0       0.0       0.0       1.0  0.0  11.0   \n",
      "253677          0.0      1.0       0.0       0.0       0.0  0.0   2.0   \n",
      "253678          0.0      3.0       0.0       0.0       0.0  1.0   7.0   \n",
      "253679          0.0      2.0       0.0       0.0       0.0  0.0   9.0   \n",
      "\n",
      "        Education  Income  \n",
      "0             4.0     3.0  \n",
      "1             6.0     1.0  \n",
      "2             4.0     8.0  \n",
      "3             3.0     6.0  \n",
      "4             5.0     4.0  \n",
      "...           ...     ...  \n",
      "253675        6.0     7.0  \n",
      "253676        2.0     4.0  \n",
      "253677        5.0     2.0  \n",
      "253678        5.0     1.0  \n",
      "253679        6.0     2.0  \n",
      "\n",
      "[253680 rows x 22 columns]\n"
     ]
    }
   ],
   "source": [
    "print (heart_dataframe)"
   ]
  },
  {
   "cell_type": "code",
   "execution_count": null,
   "id": "cd2b4a79-e225-4853-ad30-c5cb5f1e23dd",
   "metadata": {},
   "outputs": [],
   "source": []
  }
 ],
 "metadata": {
  "kernelspec": {
   "display_name": "Python 3",
   "language": "python",
   "name": "python3"
  },
  "language_info": {
   "codemirror_mode": {
    "name": "ipython",
    "version": 3
   },
   "file_extension": ".py",
   "mimetype": "text/x-python",
   "name": "python",
   "nbconvert_exporter": "python",
   "pygments_lexer": "ipython3",
   "version": "3.9.12"
  }
 },
 "nbformat": 4,
 "nbformat_minor": 5
}
