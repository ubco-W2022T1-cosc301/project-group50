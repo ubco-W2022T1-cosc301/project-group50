{
 "cells": [
  {
   "cell_type": "code",
   "execution_count": 4,
   "id": "94a758a5-b1a6-404e-b705-cf179cf26af5",
   "metadata": {},
   "outputs": [],
   "source": [
    "import pandas as pd\n",
    "def pipeline1(path):\n",
    "   \n",
    "    HD = pd.read_csv(path)\n",
    "\n",
    "    df = (\n",
    "        HD.loc[:,['HighBP','BMI','HighChol','Diabetes','HeartDiseaseorAttack','Stroke']]\n",
    "        .loc[(HD[\"BMI\"] <60)]\n",
    "    )\n",
    "    return df"
   ]
  }
 ],
 "metadata": {
  "kernelspec": {
   "display_name": "Python 3 (ipykernel)",
   "language": "python",
   "name": "python3"
  },
  "language_info": {
   "codemirror_mode": {
    "name": "ipython",
    "version": 3
   },
   "file_extension": ".py",
   "mimetype": "text/x-python",
   "name": "python",
   "nbconvert_exporter": "python",
   "pygments_lexer": "ipython3",
   "version": "3.9.12"
  }
 },
 "nbformat": 4,
 "nbformat_minor": 5
}
